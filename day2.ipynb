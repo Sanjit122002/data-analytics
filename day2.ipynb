{
 "cells": [
  {
   "cell_type": "code",
   "execution_count": null,
   "id": "d92ce1e9-a83c-4d17-95a9-cd3b0d473c7e",
   "metadata": {},
   "outputs": [],
   "source": [
    "import pandas as pd\n",
    "\n",
    "def valid_emails(users: pd.DataFrame) -> pd.DataFrame:\n",
    "    # Use the str.match() method with a regex pattern to find valid emails\n",
    "    valid_emails_df = users[users['mail'].str.match(r'^[A-Za-z][A-Za-z0-9_\\.\\-]*@leetcode(\\?com)?\\.com$')]\n",
    "    \n",
    "    return valid_emails_df"
   ]
  },
  {
   "cell_type": "code",
   "execution_count": null,
   "id": "7a26fb64-8130-48bf-9220-dcd7ca20fe36",
   "metadata": {},
   "outputs": [],
   "source": [
    "import pandas as pd\n",
    "\n",
    "def find_patients(patients: pd.DataFrame) -> pd.DataFrame:\n",
    "    patients_with_diabetes=patients[patients['conditions'].str.contains(r'\\bDIAB1')]\n",
    "    result_df=patients_with_diabetes[['patient_id','patient_name','conditions']]\n",
    "    return result_df"
   ]
  },
  {
   "cell_type": "code",
   "execution_count": null,
   "id": "460fdffa-5353-4aad-adce-a003837f8f43",
   "metadata": {},
   "outputs": [],
   "source": [
    "import pandas as pd\n",
    "\n",
    "def second_highest_salary(employee: pd.DataFrame) -> pd.DataFrame:\n",
    "    # Drop any duplicate salary values to avoid counting duplicates as separate salary ranks\n",
    "    unique_salaries = employee['salary'].drop_duplicates()\n",
    "\n",
    "    # Sort the unique salaries in descending order and get the second highest salary\n",
    "    second_highest = unique_salaries.nlargest(2).iloc[-1] if len(unique_salaries) >= 2 else None\n",
    "\n",
    "    # If the second highest salary doesn't exist (e.g., there are fewer than two unique salaries), return None\n",
    "    if second_highest is None:\n",
    "        return pd.DataFrame({'SecondHighestSalary': [None]})\n",
    "\n",
    "    # Create a DataFrame with the second highest salary\n",
    "    result_df = pd.DataFrame({'SecondHighestSalary': [second_highest]})\n",
    "\n",
    "    return result_df"
   ]
  },
  {
   "cell_type": "code",
   "execution_count": null,
   "id": "9c7f16a8-1677-4721-ba5f-f8087dbc6295",
   "metadata": {},
   "outputs": [],
   "source": [
    "import pandas as pd\n",
    "\n",
    "def department_highest_salary(employee: pd.DataFrame, department: pd.DataFrame) -> pd.DataFrame:\n",
    "    if employee.empty or department.empty:\n",
    "        return pd.DataFrame(columns=['Department','Employee', 'Salary'])\n",
    "    \n",
    "    # Merge the employee and department DataFrames on 'departmentId' and 'id' columns\n",
    "    merged_df = employee.merge(department, left_on='departmentId', right_on='id', suffixes=('_employee', '_department'))\n",
    "    \n",
    "    # Use groupby to group data by 'departmentId' and apply a lambda function to get employees with highest salary in each group\n",
    "    highest_salary_df = merged_df.groupby('departmentId').apply(lambda x: x[x['salary'] == x['salary'].max()])\n",
    "    \n",
    "    # Drop the duplicate 'departmentId' column and reset the index\n",
    "    highest_salary_df = highest_salary_df.reset_index(drop=True)\n",
    "    \n",
    "    # Select the required columns and return the result\n",
    "    result_df = highest_salary_df[['name_department', 'name_employee', 'salary']]\n",
    "    \n",
    "    # Rename the columns as specified\n",
    "    result_df.columns = ['Department','Employee', 'Salary']\n",
    "    \n",
    "    return result_df"
   ]
  },
  {
   "cell_type": "code",
   "execution_count": null,
   "id": "e020f0cf-ae84-4288-b22d-f9d86641a075",
   "metadata": {},
   "outputs": [],
   "source": [
    "import pandas as pd\n",
    "\n",
    "# Modify Person in place\n",
    "def delete_duplicate_emails(person: pd.DataFrame) -> None:\n",
    "    # Sort the rows based on id (Ascending order)\n",
    "    person.sort_values(by='id',ascending=True,inplace=True)\n",
    "    # Drop the duplicates based on email.\n",
    "    person.drop_duplicates(subset='email', keep='first', inplace=True)"
   ]
  }
 ],
 "metadata": {
  "kernelspec": {
   "display_name": "Python 3 (ipykernel)",
   "language": "python",
   "name": "python3"
  },
  "language_info": {
   "codemirror_mode": {
    "name": "ipython",
    "version": 3
   },
   "file_extension": ".py",
   "mimetype": "text/x-python",
   "name": "python",
   "nbconvert_exporter": "python",
   "pygments_lexer": "ipython3",
   "version": "3.11.5"
  }
 },
 "nbformat": 4,
 "nbformat_minor": 5
}
